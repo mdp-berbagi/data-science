{
  "nbformat": 4,
  "nbformat_minor": 0,
  "metadata": {
    "colab": {
      "name": "1-data_operations.ipynb",
      "provenance": [],
      "collapsed_sections": [],
      "authorship_tag": "ABX9TyPEjX9sGFXsKQxWevNlQojI",
      "include_colab_link": true
    },
    "kernelspec": {
      "name": "python3",
      "display_name": "Python 3"
    }
  },
  "cells": [
    {
      "cell_type": "markdown",
      "metadata": {
        "id": "view-in-github",
        "colab_type": "text"
      },
      "source": [
        "<a href=\"https://colab.research.google.com/github/mdp-berbagi/data-science/blob/main/1_data_operations.ipynb\" target=\"_parent\"><img src=\"https://colab.research.google.com/assets/colab-badge.svg\" alt=\"Open In Colab\"/></a>"
      ]
    },
    {
      "cell_type": "markdown",
      "metadata": {
        "id": "MPVsM1C04UpX"
      },
      "source": [
        "**Perhatian :** Jalankan ini terlebih dahulu untuk menjalankan catatan\n"
      ]
    },
    {
      "cell_type": "code",
      "metadata": {
        "id": "qtnPhwRByaLi"
      },
      "source": [
        "import requests\n",
        "import pandas\n",
        "from lxml import objectify\n",
        "from urllib.request import urlopen\n",
        "import sys"
      ],
      "execution_count": 8,
      "outputs": []
    },
    {
      "cell_type": "markdown",
      "metadata": {
        "id": "pSRTSAMN1hNP"
      },
      "source": [
        "# **Request HTTP**"
      ]
    },
    {
      "cell_type": "code",
      "metadata": {
        "colab": {
          "base_uri": "https://localhost:8080/"
        },
        "id": "lvXERi2by-nG",
        "outputId": "17b89213-6762-49cf-b0b6-024daf69e31f"
      },
      "source": [
        "result = requests.get(\"https://raw.githubusercontent.com/wesm/pydata-book/2nd-edition/examples/ex1.csv\")\n",
        "type(result)\n",
        "print(result.text)"
      ],
      "execution_count": 3,
      "outputs": [
        {
          "output_type": "stream",
          "text": [
            "a,b,c,d,message\n",
            "1,2,3,4,hello\n",
            "5,6,7,8,world\n",
            "9,10,11,12,foo\n"
          ],
          "name": "stdout"
        }
      ]
    },
    {
      "cell_type": "markdown",
      "metadata": {
        "id": "EiecwuZQ14lI"
      },
      "source": [
        "# **Mengolah Data dengan Panda**"
      ]
    },
    {
      "cell_type": "markdown",
      "metadata": {
        "id": "Ux4ppjIy5Xfz"
      },
      "source": [
        "Pertama pastikan kamu punya sumber data dan pastikan bisa di akses, data yang bisa di ambil oleh pandas adalah http dan local file langsung"
      ]
    },
    {
      "cell_type": "code",
      "metadata": {
        "id": "ZE_NXSrp4uWN"
      },
      "source": [
        "source_address = \"https://raw.githubusercontent.com/wesm/pydata-book/2nd-edition/examples/ex1.csv\"\n",
        "# source_address = \"/content/my_data/ex1.csv\""
      ],
      "execution_count": 12,
      "outputs": []
    },
    {
      "cell_type": "markdown",
      "metadata": {
        "id": "aHCjkYXl48x_"
      },
      "source": [
        "Lalu kita perintah pandas untuk baca, pastikan kamu sudah mengetahui sumber datanya, untuk sekarang kita menggunakan format csv"
      ]
    },
    {
      "cell_type": "code",
      "metadata": {
        "colab": {
          "base_uri": "https://localhost:8080/"
        },
        "id": "Vu4O6ldOz0mS",
        "outputId": "339913a8-7be9-4316-cfc5-6cf476553492"
      },
      "source": [
        "data = pandas.read_csv(source_address)\n",
        "\n",
        "print(data)         # Ambil datanya\n",
        "print(data['a'])    # Akses Arraynya\n",
        "print(data['a'][1]) # Akses Arraynya lebih dalam"
      ],
      "execution_count": 10,
      "outputs": [
        {
          "output_type": "stream",
          "text": [
            "   a   b   c   d message\n",
            "0  1   2   3   4   hello\n",
            "1  5   6   7   8   world\n",
            "2  9  10  11  12     foo\n",
            "0    1\n",
            "1    5\n",
            "2    9\n",
            "Name: a, dtype: int64\n",
            "5\n"
          ],
          "name": "stdout"
        }
      ]
    },
    {
      "cell_type": "markdown",
      "metadata": {
        "id": "Qyr7HRIn58aD"
      },
      "source": [
        "dan readernya punya parameter, ini contoh satu parameter `header`"
      ]
    },
    {
      "cell_type": "code",
      "metadata": {
        "colab": {
          "base_uri": "https://localhost:8080/"
        },
        "id": "agSJKCVF2A3w",
        "outputId": "6f23c325-c854-4e5c-d453-87bab5741e22"
      },
      "source": [
        "data = pandas.read_csv(source_address, header=None);\n",
        "print(data)"
      ],
      "execution_count": 13,
      "outputs": [
        {
          "output_type": "stream",
          "text": [
            "   0   1   2   3        4\n",
            "0  a   b   c   d  message\n",
            "1  1   2   3   4    hello\n",
            "2  5   6   7   8    world\n",
            "3  9  10  11  12      foo\n"
          ],
          "name": "stdout"
        }
      ]
    },
    {
      "cell_type": "markdown",
      "metadata": {
        "id": "I5XMFOC66F_l"
      },
      "source": [
        "parameter lainya bernama `names`"
      ]
    },
    {
      "cell_type": "code",
      "metadata": {
        "colab": {
          "base_uri": "https://localhost:8080/"
        },
        "id": "WJO2rTdR2zla",
        "outputId": "0972d0d5-5c51-45f8-98e5-71ca5ecdde34"
      },
      "source": [
        "data = pandas.read_csv(source_address, names=['field1', '2', 'fld3', '4', 'msg']);\n",
        "print(data)"
      ],
      "execution_count": 15,
      "outputs": [
        {
          "output_type": "stream",
          "text": [
            "  field1   2 fld3   4      msg\n",
            "0      a   b    c   d  message\n",
            "1      1   2    3   4    hello\n",
            "2      5   6    7   8    world\n",
            "3      9  10   11  12      foo\n"
          ],
          "name": "stdout"
        }
      ]
    },
    {
      "cell_type": "markdown",
      "metadata": {
        "id": "4CqzUxCB6fxM"
      },
      "source": [
        "dan coba menggunakan 2 parameter, dan sekalian test parameter `index_col`"
      ]
    },
    {
      "cell_type": "code",
      "metadata": {
        "colab": {
          "base_uri": "https://localhost:8080/"
        },
        "id": "cKiMvwwU4MVB",
        "outputId": "213871fa-6563-4051-f750-4f81ed392507"
      },
      "source": [
        "data = pandas.read_csv(source_address, names=['field1', '2', 'fld3', '4', 'msg'], index_col='msg');\n",
        "print(data)\n",
        "print(\"Filed Selected = \" + data['fld3']['hello'])"
      ],
      "execution_count": 18,
      "outputs": [
        {
          "output_type": "stream",
          "text": [
            "        field1   2 fld3   4\n",
            "msg                        \n",
            "message      a   b    c   d\n",
            "hello        1   2    3   4\n",
            "world        5   6    7   8\n",
            "foo          9  10   11  12\n",
            "Filed Selected = 3\n"
          ],
          "name": "stdout"
        }
      ]
    },
    {
      "cell_type": "markdown",
      "metadata": {
        "id": "-PAlpzmt6woq"
      },
      "source": [
        "boleh juga untuk menggunakan fungsi reader lain, seperi `reader_table` dan sekalian coba parameter `sep` dengan kepanjangan `sep`nya adalah separator"
      ]
    },
    {
      "cell_type": "code",
      "metadata": {
        "colab": {
          "base_uri": "https://localhost:8080/"
        },
        "id": "xo0hNxrh5fvR",
        "outputId": "b03975f7-9278-486e-c89a-6053b0f36b5d"
      },
      "source": [
        "data = pandas.read_table(source_address, sep=\",\");\n",
        "print(data)"
      ],
      "execution_count": 17,
      "outputs": [
        {
          "output_type": "stream",
          "text": [
            "   a   b   c   d message\n",
            "0  1   2   3   4   hello\n",
            "1  5   6   7   8   world\n",
            "2  9  10  11  12     foo\n"
          ],
          "name": "stdout"
        }
      ]
    },
    {
      "cell_type": "markdown",
      "metadata": {
        "id": "mTAV6oHM7dIU"
      },
      "source": [
        "read table dipakai untuk format teks dan format gak umum lainya"
      ]
    },
    {
      "cell_type": "code",
      "metadata": {
        "colab": {
          "base_uri": "https://localhost:8080/"
        },
        "id": "xE1_BAV85v8E",
        "outputId": "e5f4609e-e34f-4e86-ef2f-a044c828ce9c"
      },
      "source": [
        "data = pandas.read_table(\"https://raw.githubusercontent.com/wesm/pydata-book/2nd-edition/examples/ex3.txt\", sep='\\s+')\n",
        "print(data)"
      ],
      "execution_count": 20,
      "outputs": [
        {
          "output_type": "stream",
          "text": [
            "            A         B         C\n",
            "aaa -0.264438 -1.026059 -0.619500\n",
            "bbb  0.927272  0.302904 -0.032399\n",
            "ccc -0.264273 -0.386314 -0.217601\n",
            "ddd -0.871858 -0.348382  1.100491\n"
          ],
          "name": "stdout"
        }
      ]
    },
    {
      "cell_type": "code",
      "metadata": {
        "colab": {
          "base_uri": "https://localhost:8080/"
        },
        "id": "QXNSTC2p9aKP",
        "outputId": "db85a092-9f1a-42e7-e037-d73826fea91b"
      },
      "source": [
        "source = \"https://raw.githubusercontent.com/wesm/pydata-book/2nd-edition/examples/csv_mindex.csv\";\n",
        "data6 = pandas.read_csv(source, index_col=['key1', 'key2'])\n",
        "print(data6)\n",
        "print(data6['value1']['one', 'b'])"
      ],
      "execution_count": null,
      "outputs": [
        {
          "output_type": "stream",
          "text": [
            "           value1  value2\n",
            "key1 key2                \n",
            "one  a          1       2\n",
            "     b          3       4\n",
            "     c          5       6\n",
            "     d          7       8\n",
            "two  a          9      10\n",
            "     b         11      12\n",
            "     c         13      14\n",
            "     d         15      16\n",
            "3\n"
          ],
          "name": "stdout"
        }
      ]
    },
    {
      "cell_type": "code",
      "metadata": {
        "colab": {
          "base_uri": "https://localhost:8080/"
        },
        "id": "c5WiYv86FKb5",
        "outputId": "dfed5022-e37b-4d9c-9ff5-b9d345bcfc0f"
      },
      "source": [
        "url = 'https://raw.githubusercontent.com/wesm/pydata-book/2nd-edition/examples/ex5.csv'\n",
        "\n",
        "print(requests.get(url).text);\n",
        "\n",
        "csv = pandas.read_csv(url);\n",
        "print(csv);\n",
        "\n",
        "print(pandas.isnull(csv));"
      ],
      "execution_count": null,
      "outputs": [
        {
          "output_type": "stream",
          "text": [
            "something,a,b,c,d,message\n",
            "one,1,2,3,4,NA\n",
            "two,5,6,,8,world\n",
            "three,9,10,11,12,foo\n",
            "  something  a   b     c   d message\n",
            "0       one  1   2   3.0   4     NaN\n",
            "1       two  5   6   NaN   8   world\n",
            "2     three  9  10  11.0  12     foo\n",
            "   something      a      b      c      d  message\n",
            "0      False  False  False  False  False     True\n",
            "1      False  False  False   True  False    False\n",
            "2      False  False  False  False  False    False\n"
          ],
          "name": "stdout"
        }
      ]
    },
    {
      "cell_type": "markdown",
      "metadata": {
        "id": "zCfsR3ANLqtX"
      },
      "source": [
        "**CSV Render**\n",
        "\n",
        "Render Parameter:\n",
        "\n",
        "1.   Delimiter ( splitter data )\n",
        "2.   Line Delimiter\n",
        "3.   Qoute Chat\n",
        "\n"
      ]
    },
    {
      "cell_type": "code",
      "metadata": {
        "colab": {
          "base_uri": "https://localhost:8080/"
        },
        "id": "5tL7Gpy2HDNz",
        "outputId": "22b6aa73-ee46-404a-ecd5-bc0c858fade7"
      },
      "source": [
        "import csv;\n",
        "\n",
        "from io import StringIO;\n",
        "\n",
        "url = 'https://raw.githubusercontent.com/wesm/pydata-book/2nd-edition/examples/ex7.csv';\n",
        "source = requests.get(url);\n",
        "\n",
        "csvExample = csv.reader(StringIO(source.text));\n",
        "print(csvExample);\n",
        "\n",
        "for row in csvExample:\n",
        "  print(\"Data \");\n",
        "  print(data);\n",
        "  for col in row: \n",
        "    print(col);\n",
        "\n"
      ],
      "execution_count": null,
      "outputs": [
        {
          "output_type": "stream",
          "text": [
            "<_csv.reader object at 0x7f802e63b9d0>\n",
            "Data \n",
            "['1', '2', '3']\n",
            "a\n",
            "b\n",
            "c\n",
            "Data \n",
            "['1', '2', '3']\n",
            "1\n",
            "2\n",
            "3\n",
            "Data \n",
            "['1', '2', '3']\n",
            "1\n",
            "2\n",
            "3\n"
          ],
          "name": "stdout"
        }
      ]
    },
    {
      "cell_type": "code",
      "metadata": {
        "colab": {
          "base_uri": "https://localhost:8080/"
        },
        "id": "VjznpjjGNq4z",
        "outputId": "8134247b-fb4b-4921-fb31-48e4ad75a752"
      },
      "source": [
        "url = 'https://raw.githubusercontent.com/wesm/pydata-book/2nd-edition/examples/ex6.csv';\n",
        "source = pandas.read_csv(url);\n",
        "sourceJust5 = pandas.read_csv(url, nrows=5)\n",
        "\n",
        "pandas.options.display.max_columns = 3\n",
        "pandas.options.display.max_rows = 12\n",
        "\n",
        "print(source)\n",
        "print(sourceJust5)"
      ],
      "execution_count": null,
      "outputs": [
        {
          "output_type": "stream",
          "text": [
            "           one  ...  key\n",
            "0     0.467976  ...    L\n",
            "1    -0.358893  ...    B\n",
            "2    -0.501840  ...    G\n",
            "3     0.204886  ...    R\n",
            "4     0.354628  ...    Q\n",
            "...        ...  ...  ...\n",
            "9995  2.311896  ...    L\n",
            "9996 -0.479893  ...    E\n",
            "9997  0.523331  ...    K\n",
            "9998 -0.362559  ...    G\n",
            "9999 -0.096376  ...    0\n",
            "\n",
            "[10000 rows x 5 columns]\n",
            "        one  ...  key\n",
            "0  0.467976  ...    L\n",
            "1 -0.358893  ...    B\n",
            "2 -0.501840  ...    G\n",
            "3  0.204886  ...    R\n",
            "4  0.354628  ...    Q\n",
            "\n",
            "[5 rows x 5 columns]\n"
          ],
          "name": "stdout"
        }
      ]
    },
    {
      "cell_type": "markdown",
      "metadata": {
        "id": "KAfhO--xRQge"
      },
      "source": [
        "Chucksize untuk memecah baris jadi beberapa array"
      ]
    },
    {
      "cell_type": "code",
      "metadata": {
        "colab": {
          "base_uri": "https://localhost:8080/"
        },
        "id": "B8AnQK4lQ38t",
        "outputId": "bff4bee5-486f-4967-86a4-f9c37d9e3465"
      },
      "source": [
        "url = 'https://raw.githubusercontent.com/wesm/pydata-book/2nd-edition/examples/ex6.csv';\n",
        "source = pandas.read_csv(url, chunksize=1000);\n",
        "\n",
        "for stack in source:\n",
        "  print(stack)"
      ],
      "execution_count": null,
      "outputs": [
        {
          "output_type": "stream",
          "text": [
            "          one  ...  key\n",
            "0    0.467976  ...    L\n",
            "1   -0.358893  ...    B\n",
            "2   -0.501840  ...    G\n",
            "3    0.204886  ...    R\n",
            "4    0.354628  ...    Q\n",
            "..        ...  ...  ...\n",
            "995  2.311896  ...    M\n",
            "996 -0.479893  ...    H\n",
            "997  0.523331  ...    D\n",
            "998 -0.362559  ...    W\n",
            "999 -0.096376  ...    K\n",
            "\n",
            "[1000 rows x 5 columns]\n",
            "           one  ...  key\n",
            "1000  0.467976  ...    T\n",
            "1001 -0.358893  ...    J\n",
            "1002 -0.501840  ...    R\n",
            "1003  0.204886  ...    S\n",
            "1004  0.354628  ...    B\n",
            "...        ...  ...  ...\n",
            "1995  2.311896  ...    L\n",
            "1996 -0.479893  ...    J\n",
            "1997  0.523331  ...    V\n",
            "1998 -0.362559  ...    W\n",
            "1999 -0.096376  ...    D\n",
            "\n",
            "[1000 rows x 5 columns]\n",
            "           one  ...  key\n",
            "2000  0.467976  ...    1\n",
            "2001 -0.358893  ...    H\n",
            "2002 -0.501840  ...    F\n",
            "2003  0.204886  ...    L\n",
            "2004  0.354628  ...    E\n",
            "...        ...  ...  ...\n",
            "2995  2.311896  ...    H\n",
            "2996 -0.479893  ...    U\n",
            "2997  0.523331  ...    A\n",
            "2998 -0.362559  ...    Y\n",
            "2999 -0.096376  ...    F\n",
            "\n",
            "[1000 rows x 5 columns]\n",
            "           one  ...  key\n",
            "3000  0.467976  ...    H\n",
            "3001 -0.358893  ...    Y\n",
            "3002 -0.501840  ...    0\n",
            "3003  0.204886  ...    Z\n",
            "3004  0.354628  ...    U\n",
            "...        ...  ...  ...\n",
            "3995  2.311896  ...    W\n",
            "3996 -0.479893  ...    E\n",
            "3997  0.523331  ...    Q\n",
            "3998 -0.362559  ...    A\n",
            "3999 -0.096376  ...    M\n",
            "\n",
            "[1000 rows x 5 columns]\n",
            "           one  ...  key\n",
            "4000  0.467976  ...    H\n",
            "4001 -0.358893  ...    Z\n",
            "4002 -0.501840  ...    2\n",
            "4003  0.204886  ...    B\n",
            "4004  0.354628  ...    1\n",
            "...        ...  ...  ...\n",
            "4995  2.311896  ...    X\n",
            "4996 -0.479893  ...    M\n",
            "4997  0.523331  ...    5\n",
            "4998 -0.362559  ...    T\n",
            "4999 -0.096376  ...    U\n",
            "\n",
            "[1000 rows x 5 columns]\n",
            "           one  ...  key\n",
            "5000  0.467976  ...    1\n",
            "5001 -0.358893  ...    Z\n",
            "5002 -0.501840  ...    3\n",
            "5003  0.204886  ...    H\n",
            "5004  0.354628  ...    B\n",
            "...        ...  ...  ...\n",
            "5995  2.311896  ...    1\n",
            "5996 -0.479893  ...    Y\n",
            "5997  0.523331  ...    F\n",
            "5998 -0.362559  ...    0\n",
            "5999 -0.096376  ...    3\n",
            "\n",
            "[1000 rows x 5 columns]\n",
            "           one  ...  key\n",
            "6000  0.467976  ...    I\n",
            "6001 -0.358893  ...    X\n",
            "6002 -0.501840  ...    A\n",
            "6003  0.204886  ...    C\n",
            "6004  0.354628  ...    S\n",
            "...        ...  ...  ...\n",
            "6995  2.311896  ...    P\n",
            "6996 -0.479893  ...    9\n",
            "6997  0.523331  ...    L\n",
            "6998 -0.362559  ...    5\n",
            "6999 -0.096376  ...    O\n",
            "\n",
            "[1000 rows x 5 columns]\n",
            "           one  ...  key\n",
            "7000  0.467976  ...    1\n",
            "7001 -0.358893  ...    I\n",
            "7002 -0.501840  ...    H\n",
            "7003  0.204886  ...    P\n",
            "7004  0.354628  ...    D\n",
            "...        ...  ...  ...\n",
            "7995  2.311896  ...    A\n",
            "7996 -0.479893  ...    6\n",
            "7997  0.523331  ...    R\n",
            "7998 -0.362559  ...    R\n",
            "7999 -0.096376  ...    2\n",
            "\n",
            "[1000 rows x 5 columns]\n",
            "           one  ...  key\n",
            "8000  0.467976  ...    7\n",
            "8001 -0.358893  ...    W\n",
            "8002 -0.501840  ...    C\n",
            "8003  0.204886  ...    S\n",
            "8004  0.354628  ...    H\n",
            "...        ...  ...  ...\n",
            "8995  2.311896  ...    W\n",
            "8996 -0.479893  ...    N\n",
            "8997  0.523331  ...    Q\n",
            "8998 -0.362559  ...    R\n",
            "8999 -0.096376  ...    M\n",
            "\n",
            "[1000 rows x 5 columns]\n",
            "           one  ...  key\n",
            "9000  0.467976  ...    B\n",
            "9001 -0.358893  ...    M\n",
            "9002 -0.501840  ...    N\n",
            "9003  0.204886  ...    N\n",
            "9004  0.354628  ...    Y\n",
            "...        ...  ...  ...\n",
            "9995  2.311896  ...    L\n",
            "9996 -0.479893  ...    E\n",
            "9997  0.523331  ...    K\n",
            "9998 -0.362559  ...    G\n",
            "9999 -0.096376  ...    0\n",
            "\n",
            "[1000 rows x 5 columns]\n"
          ],
          "name": "stdout"
        }
      ]
    },
    {
      "cell_type": "markdown",
      "metadata": {
        "id": "VCFeBG0hSClL"
      },
      "source": [
        "**Web Scapping Sederhana**"
      ]
    },
    {
      "cell_type": "code",
      "metadata": {
        "colab": {
          "base_uri": "https://localhost:8080/"
        },
        "id": "pxiG4NnWSFiG",
        "outputId": "de1895c4-42a5-4c7c-9a2c-8412881adeac"
      },
      "source": [
        "source_url = \"https://www.fdic.gov/resources/resolutions/bank-failures/failed-bank-list/\"\n",
        "\n",
        "pandas.options.display.max_rows = 6\n",
        "pandas.read_html(source_url)"
      ],
      "execution_count": null,
      "outputs": [
        {
          "output_type": "execute_result",
          "data": {
            "text/plain": [
              "[                             Bank Name  ...       Closing Date\n",
              " 0                    Almena State Bank  ...   October 23, 2020\n",
              " 1           First City Bank of Florida  ...   October 16, 2020\n",
              " 2                 The First State Bank  ...      April 3, 2020\n",
              " ..                                 ...  ...                ...\n",
              " 560    First Alliance Bank & Trust Co.  ...   February 2, 2001\n",
              " 561  National State Bank of Metropolis  ...  December 14, 2000\n",
              " 562                   Bank of Honolulu  ...   October 13, 2000\n",
              " \n",
              " [563 rows x 6 columns]]"
            ]
          },
          "metadata": {
            "tags": []
          },
          "execution_count": 30
        }
      ]
    },
    {
      "cell_type": "markdown",
      "metadata": {
        "id": "OT6jJeCk3au4"
      },
      "source": [
        "**Explore XML**"
      ]
    },
    {
      "cell_type": "code",
      "metadata": {
        "colab": {
          "base_uri": "https://localhost:8080/"
        },
        "id": "0eePqNOgTeZa",
        "outputId": "3a647ffb-2f29-476e-8da0-98a0a9f03870"
      },
      "source": [
        "source_url = 'https://raw.githubusercontent.com/wesm/pydata-book/2nd-edition/datasets/mta_perf/Performance_MNR.xml';\n",
        "\n",
        "parsed =  objectify.parse(urlopen(source_url))\n",
        "root = parsed.getroot()\n",
        "print(root.tag)\n",
        "child = root.getchildren()\n",
        "print(len(child), \"Rows Avaiable\")"
      ],
      "execution_count": null,
      "outputs": [
        {
          "output_type": "stream",
          "text": [
            "PERFORMANCE\n",
            "648 Rows Avaiable\n"
          ],
          "name": "stdout"
        }
      ]
    },
    {
      "cell_type": "markdown",
      "metadata": {
        "id": "bwtLMRJL3-Sq"
      },
      "source": [
        "Coba di akses per-element, tergatung XMLnya"
      ]
    },
    {
      "cell_type": "code",
      "metadata": {
        "id": "Yldc57i-384i"
      },
      "source": [
        "data = []\n",
        "for elt in root.INDICATOR:\n",
        "  row = {}\n",
        "  for col in elt.getchildren():\n",
        "    row[col.tag] = col.text\n",
        "  data.append(row)\n",
        "\n",
        "print(type(data))\n",
        "result = pandas.DataFrame(data)\n",
        "print(result)"
      ],
      "execution_count": null,
      "outputs": []
    },
    {
      "cell_type": "markdown",
      "metadata": {
        "id": "VbGy42s03Ait"
      },
      "source": [
        "Coba Print Data Frame menjadi file yang dibutuhkan"
      ]
    },
    {
      "cell_type": "code",
      "metadata": {
        "id": "Ski-LX862_4R"
      },
      "source": [
        "result.to_csv(sys.stdout, sep=\";\")"
      ],
      "execution_count": null,
      "outputs": []
    },
    {
      "cell_type": "markdown",
      "metadata": {
        "id": "LmrgQokg2_hP"
      },
      "source": [
        "coba buat CSV dari datanya"
      ]
    },
    {
      "cell_type": "code",
      "metadata": {
        "id": "rXOSc9F94dB3"
      },
      "source": [
        "result.to_csv(\"my_data.csv\", sep=';')\n",
        "pandas.read_csv(\"/content/my_data.csv\")"
      ],
      "execution_count": null,
      "outputs": []
    },
    {
      "cell_type": "markdown",
      "metadata": {
        "id": "d-O5MOBf9_h8"
      },
      "source": [
        "Working with Rational Database"
      ]
    },
    {
      "cell_type": "code",
      "metadata": {
        "id": "4e71yNFy96hR"
      },
      "source": [
        "import sqlite3;\n",
        "\n",
        "query = \"\"\"\n",
        "        CREATE TABLE test(a VARCHAR(20), b VARCHAR(20), c REAL, d INTERGER)\n",
        "        \"\"\"\n",
        "\n",
        "db = sqlite3.connect('mydata.sqlite')\n",
        "db.execute(query)\n",
        "db.commit()"
      ],
      "execution_count": null,
      "outputs": []
    },
    {
      "cell_type": "code",
      "metadata": {
        "id": "sASBRKOg_Oik"
      },
      "source": [
        "stmt_insert = \"INSERT INTO test VALUES(?,?,?,?)\"\n",
        "data = [\n",
        "  (\"Alamaut\", \"Mati\", 1.25, 6),\n",
        "  (\"Talasamata\", \"Kaulah\", 2.6, 3),\n",
        "  (\"Sacr\", \"Cali\", 1.7, 5)\n",
        "]\n",
        "\n",
        "db.executemany(stmt_insert, data);\n",
        "db.commit();"
      ],
      "execution_count": null,
      "outputs": []
    },
    {
      "cell_type": "code",
      "metadata": {
        "colab": {
          "base_uri": "https://localhost:8080/"
        },
        "id": "dRlcVFVf-0lb",
        "outputId": "a824688f-ee65-4dde-bea4-adede4ea97f9"
      },
      "source": [
        "cursor = db.execute(\"SELECT * FROM test\")\n",
        "print(cursor.fetchall())"
      ],
      "execution_count": null,
      "outputs": [
        {
          "output_type": "stream",
          "text": [
            "[('Alamaut', 'Mati', 1.25, 6), ('Talasamata', 'Kaulah', 2.6, 3), ('Sacr', 'Cali', 1.7, 5)]\n"
          ],
          "name": "stdout"
        }
      ]
    },
    {
      "cell_type": "code",
      "metadata": {
        "id": "uLrCfj9KBPf-"
      },
      "source": [
        ""
      ],
      "execution_count": null,
      "outputs": []
    }
  ]
}